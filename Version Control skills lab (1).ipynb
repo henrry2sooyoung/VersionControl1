{
 "cells": [
  {
   "cell_type": "code",
   "execution_count": null,
   "metadata": {},
   "outputs": [],
   "source": [
    "name = input(\"Please enter your name: \")\n",
    "try:\n",
    "    num1 = int(input(\"Please enter the first integer: \"))\n",
    "    num2 = int(input(\"Please enter the second integer: \"))\n",
    "except ValueError:\n",
    "    print(\"Invalid input. Please enter integers only.\")\n",
    "    exit()\n",
    "if num1 > num2:\n",
    "    print(f\"Hello, {name}! The first integer, {num1}, is larger than the second integer, {num2}.\")\n",
    "elif num1 < num2:\n",
    "    print(f\"Hello, {name}! The second integer, {num2}, is larger than the first integer, {num1}.\")\n",
    "else:\n",
    "    print(f\"Hello, {name}! Both integers are equal.\")"
   ]
  }
 ],
 "metadata": {
  "kernelspec": {
   "display_name": "Python 3",
   "language": "python",
   "name": "python3"
  },
  "language_info": {
   "codemirror_mode": {
    "name": "ipython",
    "version": 3
   },
   "file_extension": ".py",
   "mimetype": "text/x-python",
   "name": "python",
   "nbconvert_exporter": "python",
   "pygments_lexer": "ipython3",
   "version": "3.8.3"
  }
 },
 "nbformat": 4,
 "nbformat_minor": 4
}
